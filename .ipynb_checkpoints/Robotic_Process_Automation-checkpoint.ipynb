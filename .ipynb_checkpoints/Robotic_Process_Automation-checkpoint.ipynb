{
 "cells": [
  {
   "cell_type": "code",
   "execution_count": 3,
   "id": "sought-verification",
   "metadata": {
    "scrolled": true
   },
   "outputs": [],
   "source": [
    "import requests\n",
    "from bs4 import BeautifulSoup\n",
    "import numpy as np\n",
    "import pandas as pd\n",
    "pd.set_option('display.max_rows', None)\n",
    "pd.set_option('display.max_columns', None)"
   ]
  },
  {
   "cell_type": "code",
   "execution_count": 4,
   "id": "thrown-david",
   "metadata": {},
   "outputs": [],
   "source": [
    "r = requests.get('https://www.metalmarket.eu/sw/menu/monety/1-uncjowe-monety-802.html?filter_traits%5B1%5D=367&filter_producer=&filter_traits%5B510%5D=&filter_new=&filter_stock24availability=')\n",
    "soup = BeautifulSoup(r.text, 'html.parser')\n",
    "pages = soup.find_all('ul', attrs={'class':'pagination pull-right'})\n",
    "\n",
    "r2 = requests.get(\"https://www.metalmarket.eu\"+pages[0].contents[2].find('a')['href'])\n",
    "r3 = requests.get(\"https://www.metalmarket.eu\"+pages[0].contents[3].find('a')['href'])\n",
    "r4 = requests.get(\"https://www.metalmarket.eu\"+pages[0].contents[4].find('a')['href'])\n",
    "\n",
    "reqs = [r, r2, r3,  r4]\n",
    "data = []\n",
    "params = []\n",
    "\n",
    "for req in reqs:\n",
    "    soup = BeautifulSoup(req.text, 'html.parser')\n",
    "    coins = soup.find_all('a', attrs={'class':'product-name'})\n",
    "    price = soup.find_all('span', attrs={'class':'price'})\n",
    "    for i in range(len(coins)):\n",
    "        coin_name = coins[i].contents[0][0:-1]\n",
    "        coin_price = price[i].contents[0]\n",
    "        coin = coins[i]\n",
    "        request = requests.get(\"https://www.metalmarket.eu\"+coin.get('href'))\n",
    "        soup2 = BeautifulSoup(request.text, 'html.parser')\n",
    "        params = []\n",
    "        results = soup2.find_all('table',attrs={'class':'n54117_dictionary'})\n",
    "\n",
    "        for tr in results[0].find_all(\"tr\"):\n",
    "            params.append(tr.text)\n",
    "            params = [ x for x in params if 'Forma' not in x and \"Rok\" not in x and \"Nakład\" not in x and \"Stan\" not in x and \"Opakowanie\" not in x and \"Tacka\" not in x and \"Tuba\" not in x and \"Monsterbox\" not in x and \"Rolka\" not in x and \"Seria\" not in x and \"Projektant\" not in x and \"Wymiary\" not in x and \"Produkt\" not in x]\n",
    "        data.append((coin_name, coin_price, params))\n"
   ]
  },
  {
   "cell_type": "code",
   "execution_count": 5,
   "id": "endless-significance",
   "metadata": {},
   "outputs": [],
   "source": [
    "result = [{}]\n",
    "for items in (i[2] for i in data):\n",
    "    for item in items[:-1]:\n",
    "        key, val = item.split(\":\", 1)\n",
    "        if key in result[-1]:\n",
    "            result.append({})\n",
    "        result[-1][key] = val    "
   ]
  },
  {
   "cell_type": "code",
   "execution_count": 6,
   "id": "noble-diesel",
   "metadata": {},
   "outputs": [
    {
     "name": "stderr",
     "output_type": "stream",
     "text": [
      "C:\\Users\\Zuzia\\anaconda3\\envs\\milab1\\lib\\site-packages\\ipykernel_launcher.py:1: VisibleDeprecationWarning: Creating an ndarray from ragged nested sequences (which is a list-or-tuple of lists-or-tuples-or ndarrays with different lengths or shapes) is deprecated. If you meant to do this, you must specify 'dtype=object' when creating the ndarray.\n",
      "  \"\"\"Entry point for launching an IPython kernel.\n"
     ]
    }
   ],
   "source": [
    "data=np.array(data)\n",
    "df = pd.DataFrame(data[0:,:2], columns=['Nazwa', 'Cena'])\n",
    "dfparam = pd.DataFrame.from_dict(result)"
   ]
  },
  {
   "cell_type": "code",
   "execution_count": 7,
   "id": "sexual-navigator",
   "metadata": {},
   "outputs": [],
   "source": [
    "dfwhole = pd.concat([df,dfparam],axis=1)\n",
    "dfwhole = dfwhole.drop(dfwhole[dfwhole.Waga != '1 uncja'].index)\n",
    "dfwhole = dfwhole.reset_index()\n",
    "dfwhole = dfwhole.drop(columns='index')"
   ]
  },
  {
   "cell_type": "code",
   "execution_count": 8,
   "id": "sought-instruction",
   "metadata": {},
   "outputs": [],
   "source": [
    "dfwhole.to_csv(\"metalmarket.csv\", encoding='utf-8')"
   ]
  }
 ],
 "metadata": {
  "kernelspec": {
   "display_name": "Python 3",
   "language": "python",
   "name": "python3"
  },
  "language_info": {
   "codemirror_mode": {
    "name": "ipython",
    "version": 3
   },
   "file_extension": ".py",
   "mimetype": "text/x-python",
   "name": "python",
   "nbconvert_exporter": "python",
   "pygments_lexer": "ipython3",
   "version": "3.7.9"
  }
 },
 "nbformat": 4,
 "nbformat_minor": 5
}
